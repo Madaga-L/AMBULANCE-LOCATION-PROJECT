{
 "cells": [
  {
   "cell_type": "code",
   "execution_count": 1,
   "id": "040d04a1",
   "metadata": {},
   "outputs": [],
   "source": [
    "#Load libraries\n",
    "import pandas as pd\n",
    "import numpy as np\n",
    "import csv\n",
    "import docplex.mp\n",
    "import numpy\n",
    "import geopandas\n",
    "import pandas\n",
    "import pulp\n",
    "from shapely.geometry import Point\n",
    "import matplotlib.pyplot as plt"
   ]
  },
  {
   "cell_type": "code",
   "execution_count": 2,
   "id": "95297b96",
   "metadata": {
    "scrolled": true
   },
   "outputs": [],
   "source": [
    "# Model parameters\n",
    "input_data_folder = r\"C:\\Users\\lavinia\\Documents\\MCLP_AMB\"\n",
    "demand_csv = input_data_folder + \"\\Demand.csv\"\n",
    "candidates_csv = input_data_folder + \"\\candidate_sites.csv\"\n",
    "ODMatrix_csv = input_data_folder + \"\\OD_matrix.csv\"\n",
    "Output_csv= input_data_folder + \"\\output.csv\"\n",
    "time_threshold = 5  # minutes\n",
    "unit_car_capacity = 2387  # 224355/94\n",
    "maximal_cars_per_site = 3\n",
    "\n",
    "max_time_rural= 16 #minutes     \n",
    "max_time_urban= 48 #minutes "
   ]
  },
  {
   "cell_type": "code",
   "execution_count": 3,
   "id": "c0856101",
   "metadata": {},
   "outputs": [],
   "source": [
    "#load datasets\n",
    "#load excel file of stations with including ID and Number of ambulance vehicles\n",
    "def read_candidate_sites(candidates_csv):\n",
    "    df = pd.read_csv(candidates_csv)\n",
    "    df[\"NumberOfAmbulances\"] = df[\"NumberOfAmbulances\"].fillna(value=0)\n",
    "    return df"
   ]
  },
  {
   "cell_type": "code",
   "execution_count": 4,
   "id": "3270b9d3",
   "metadata": {},
   "outputs": [],
   "source": [
    "#load excel file of demand points including ID, Call frequancy, and location (urban/rural)\n",
    "def read_demands(demand_csv):\n",
    "    df = pd.read_csv(demand_csv)\n",
    "    df[\"CallFreq\"] = df[\"CallFreq\"].fillna(value=0)\n",
    "    return df"
   ]
  },
  {
   "cell_type": "code",
   "execution_count": 5,
   "id": "44f75e29",
   "metadata": {},
   "outputs": [],
   "source": [
    "#load cost matrix including FacilityID, DemandID, DriveTime\n",
    "def create_OD_matrix(OD_csv, time_threshold):\n",
    "    df = pd.read_csv(OD_csv)\n",
    "    # determine the cover relationship based on the travel time and the service standard\n",
    "    df[\"Covered\"] = np.where(df[\"DriveTime\"] < time_threshold, 1, 0)\n",
    "    # create pivot table for OD matrix\n",
    "    pivot = df.pivot(\"StationID\", \"DemandID\", \"Covered\")\n",
    "    return pivot"
   ]
  },
  {
   "cell_type": "code",
   "execution_count": 51,
   "id": "528f5642",
   "metadata": {
    "scrolled": false
   },
   "outputs": [],
   "source": []
  },
  {
   "cell_type": "code",
   "execution_count": 6,
   "id": "76301a68",
   "metadata": {},
   "outputs": [],
   "source": [
    "# read input data for the model\n",
    "demands = read_demands(demand_csv)\n",
    "candidates = read_candidate_sites(candidates_csv)\n",
    "coverage_matrix = create_OD_matrix(ODMatrix_csv, time_threshold)"
   ]
  },
  {
   "cell_type": "code",
   "execution_count": 7,
   "id": "df12b73f",
   "metadata": {},
   "outputs": [],
   "source": [
    "# Scenario 0: Current distribution\n",
    "def calculate_objective_with_current_car_distribution(demand_csv, candidates_csv, ODMatrix_csv, time_threshold,\n",
    "                                                      unit_car_capacity):\n",
    "    # read input data for the model\n",
    "    demands = read_demands(demand_csv)\n",
    "    candidates = read_candidate_sites(candidates_csv)\n",
    "    coverage_matrix = create_OD_matrix(ODMatrix_csv, time_threshold)"
   ]
  },
  {
   "cell_type": "code",
   "execution_count": 8,
   "id": "7194301e",
   "metadata": {},
   "outputs": [
    {
     "name": "stdout",
     "output_type": "stream",
     "text": [
      "* system is: Windows 64bit\n",
      "* Python version 3.9.13, located at: C:\\ProgramData\\Anaconda3\\python.exe\n",
      "* docplex is present, version is 2.23.222\n",
      "* CPLEX library is present, version is 22.1.0.0, located at: C:\\Users\\lavinia\\AppData\\Roaming\\Python\\Python39\\site-packages\n",
      "* pandas is present, version is 1.4.4\n"
     ]
    }
   ],
   "source": [
    "from docplex.mp.environment import Environment\n",
    "env = Environment()\n",
    "env.print_information()"
   ]
  },
  {
   "cell_type": "code",
   "execution_count": 9,
   "id": "f57ec934",
   "metadata": {},
   "outputs": [],
   "source": [
    "from docplex.mp.model import Model\n",
    "mdl = Model(\"EMS vehicles\")"
   ]
  },
  {
   "cell_type": "code",
   "execution_count": 10,
   "id": "a100af9c",
   "metadata": {},
   "outputs": [],
   "source": [
    "# Define the decision variables\n",
    "# percentage of demand i covered by facility j\n",
    "y_i_j_vars = mdl.continuous_var_matrix(demands[\"DemandID\"], candidates[\"StationID\"], ub=1, name=\"y\")"
   ]
  },
  {
   "cell_type": "code",
   "execution_count": 11,
   "id": "003720a3",
   "metadata": {},
   "outputs": [],
   "source": [
    "# add constraints\n",
    "# ct1: the allocated demand should not exceed the capacity of the facility\n",
    "for j in candidates[\"StationID\"]:\n",
    "    mdl.add_constraint(mdl.scal_prod([y_i_j_vars[i, j] for i in demands[\"DemandID\"]], demands[\"CallFreq\"])\n",
    "                       <= unit_car_capacity * candidates.loc[\n",
    "                           candidates[\"StationID\"] == j, \"NumberOfAmbulances\"].item())"
   ]
  },
  {
   "cell_type": "code",
   "execution_count": 12,
   "id": "6bb8b8ec",
   "metadata": {},
   "outputs": [],
   "source": [
    "# ct2: The allocated demand at i should not exceed 100%\n",
    "for i in demands[\"DemandID\"]:\n",
    "    mdl.add_constraint(mdl.sum(y_i_j_vars[i, j] for j in candidates[\"StationID\"]) == 1)"
   ]
  },
  {
   "cell_type": "code",
   "execution_count": 13,
   "id": "3548c653",
   "metadata": {},
   "outputs": [],
   "source": [
    "# express the objective\n",
    "total_covered_demand = mdl.sum(y_i_j_vars[i, j] * demands.loc[demands[\"DemandID\"] == i, \"CallFreq\"].item()* \n",
    "                               coverage_matrix.loc[j, i]\n",
    "                               for i in demands[\"DemandID\"]\n",
    "                               for j in candidates[\"StationID\"])"
   ]
  },
  {
   "cell_type": "code",
   "execution_count": 14,
   "id": "dec6399d",
   "metadata": {},
   "outputs": [
    {
     "name": "stdout",
     "output_type": "stream",
     "text": [
      "Model: EMS vehicles\n",
      " - number of variables: 150185\n",
      "   - binary=0, integer=0, continuous=150185\n",
      " - number of constraints: 858\n",
      "   - linear=858\n",
      " - parameters: defaults\n",
      " - objective: maximize\n",
      " - problem type is: LP\n"
     ]
    }
   ],
   "source": [
    "mdl.maximize(total_covered_demand)\n",
    "mdl.print_information()  "
   ]
  },
  {
   "cell_type": "code",
   "execution_count": 16,
   "id": "1f4d1ecf",
   "metadata": {},
   "outputs": [
    {
     "ename": "DOcplexLimitsExceeded",
     "evalue": "**** Promotional version. Problem size limits (1000 vars, 1000 consts) exceeded, model has 150185 vars, 858 consts, CPLEX code=1016",
     "output_type": "error",
     "traceback": [
      "\u001b[1;31m---------------------------------------------------------------------------\u001b[0m",
      "\u001b[1;31mCplexSolverError\u001b[0m                          Traceback (most recent call last)",
      "\u001b[1;32m~\\AppData\\Roaming\\Python\\Python39\\site-packages\\docplex\\mp\\cplex_engine.py\u001b[0m in \u001b[0;36msolve\u001b[1;34m(self, mdl, parameters, **kwargs)\u001b[0m\n\u001b[0;32m   1978\u001b[0m             \u001b[1;32melse\u001b[0m\u001b[1;33m:\u001b[0m\u001b[1;33m\u001b[0m\u001b[1;33m\u001b[0m\u001b[0m\n\u001b[1;32m-> 1979\u001b[1;33m                 \u001b[0mcpx\u001b[0m\u001b[1;33m.\u001b[0m\u001b[0msolve\u001b[0m\u001b[1;33m(\u001b[0m\u001b[1;33m)\u001b[0m\u001b[1;33m\u001b[0m\u001b[1;33m\u001b[0m\u001b[0m\n\u001b[0m\u001b[0;32m   1980\u001b[0m \u001b[1;33m\u001b[0m\u001b[0m\n",
      "\u001b[1;32m~\\AppData\\Roaming\\Python\\Python39\\site-packages\\cplex\\__init__.py\u001b[0m in \u001b[0;36msolve\u001b[1;34m(self, paramsets)\u001b[0m\n\u001b[0;32m   1311\u001b[0m         \u001b[1;32melif\u001b[0m \u001b[1;32mnot\u001b[0m \u001b[0mself\u001b[0m\u001b[1;33m.\u001b[0m\u001b[0mobjective\u001b[0m\u001b[1;33m.\u001b[0m\u001b[0mget_num_quadratic_nonzeros\u001b[0m\u001b[1;33m(\u001b[0m\u001b[1;33m)\u001b[0m \u001b[1;33m>\u001b[0m \u001b[1;36m0\u001b[0m\u001b[1;33m:\u001b[0m\u001b[1;33m\u001b[0m\u001b[1;33m\u001b[0m\u001b[0m\n\u001b[1;32m-> 1312\u001b[1;33m             \u001b[0m_proc\u001b[0m\u001b[1;33m.\u001b[0m\u001b[0mlpopt\u001b[0m\u001b[1;33m(\u001b[0m\u001b[0mself\u001b[0m\u001b[1;33m.\u001b[0m\u001b[0m_env\u001b[0m\u001b[1;33m.\u001b[0m\u001b[0m_e\u001b[0m\u001b[1;33m,\u001b[0m \u001b[0mself\u001b[0m\u001b[1;33m.\u001b[0m\u001b[0m_lp\u001b[0m\u001b[1;33m)\u001b[0m\u001b[1;33m\u001b[0m\u001b[1;33m\u001b[0m\u001b[0m\n\u001b[0m\u001b[0;32m   1313\u001b[0m         \u001b[1;32melse\u001b[0m\u001b[1;33m:\u001b[0m\u001b[1;33m\u001b[0m\u001b[1;33m\u001b[0m\u001b[0m\n",
      "\u001b[1;32m~\\AppData\\Roaming\\Python\\Python39\\site-packages\\cplex\\_internal\\_procedural.py\u001b[0m in \u001b[0;36mlpopt\u001b[1;34m(env, lp)\u001b[0m\n\u001b[0;32m    737\u001b[0m         \u001b[0mstatus\u001b[0m \u001b[1;33m=\u001b[0m \u001b[0mCR\u001b[0m\u001b[1;33m.\u001b[0m\u001b[0mCPXXlpopt\u001b[0m\u001b[1;33m(\u001b[0m\u001b[0menv\u001b[0m\u001b[1;33m,\u001b[0m \u001b[0mlp\u001b[0m\u001b[1;33m)\u001b[0m\u001b[1;33m\u001b[0m\u001b[1;33m\u001b[0m\u001b[0m\n\u001b[1;32m--> 738\u001b[1;33m     \u001b[0mcheck_status\u001b[0m\u001b[1;33m(\u001b[0m\u001b[0menv\u001b[0m\u001b[1;33m,\u001b[0m \u001b[0mstatus\u001b[0m\u001b[1;33m)\u001b[0m\u001b[1;33m\u001b[0m\u001b[1;33m\u001b[0m\u001b[0m\n\u001b[0m\u001b[0;32m    739\u001b[0m \u001b[1;33m\u001b[0m\u001b[0m\n",
      "\u001b[1;32m~\\AppData\\Roaming\\Python\\Python39\\site-packages\\cplex\\_internal\\_procedural.py\u001b[0m in \u001b[0;36m__call__\u001b[1;34m(self, env, status, from_cb)\u001b[0m\n\u001b[0;32m    248\u001b[0m                     \u001b[0merror_string\u001b[0m \u001b[1;33m=\u001b[0m \u001b[0mgeterrorstring\u001b[0m\u001b[1;33m(\u001b[0m\u001b[0menv\u001b[0m\u001b[1;33m,\u001b[0m \u001b[0mstatus\u001b[0m\u001b[1;33m)\u001b[0m\u001b[1;33m\u001b[0m\u001b[1;33m\u001b[0m\u001b[0m\n\u001b[1;32m--> 249\u001b[1;33m             \u001b[1;32mraise\u001b[0m \u001b[0mCplexSolverError\u001b[0m\u001b[1;33m(\u001b[0m\u001b[0merror_string\u001b[0m\u001b[1;33m,\u001b[0m \u001b[0menv\u001b[0m\u001b[1;33m,\u001b[0m \u001b[0mstatus\u001b[0m\u001b[1;33m)\u001b[0m\u001b[1;33m\u001b[0m\u001b[1;33m\u001b[0m\u001b[0m\n\u001b[0m\u001b[0;32m    250\u001b[0m \u001b[1;33m\u001b[0m\u001b[0m\n",
      "\u001b[1;31mCplexSolverError\u001b[0m: CPLEX Error  1016: Community Edition. Problem size limits exceeded. Purchase at http://ibm.biz/error1016.",
      "\nDuring handling of the above exception, another exception occurred:\n",
      "\u001b[1;31mDOcplexLimitsExceeded\u001b[0m                     Traceback (most recent call last)",
      "\u001b[1;32m~\\AppData\\Local\\Temp\\ipykernel_4724\\3267783442.py\u001b[0m in \u001b[0;36m<module>\u001b[1;34m\u001b[0m\n\u001b[0;32m      1\u001b[0m \u001b[1;31m# solve the model\u001b[0m\u001b[1;33m\u001b[0m\u001b[1;33m\u001b[0m\u001b[0m\n\u001b[1;32m----> 2\u001b[1;33m \u001b[0mmdl\u001b[0m\u001b[1;33m.\u001b[0m\u001b[0msolve\u001b[0m\u001b[1;33m(\u001b[0m\u001b[1;33m)\u001b[0m\u001b[1;33m\u001b[0m\u001b[1;33m\u001b[0m\u001b[0m\n\u001b[0m",
      "\u001b[1;32m~\\AppData\\Roaming\\Python\\Python39\\site-packages\\docplex\\mp\\model.py\u001b[0m in \u001b[0;36msolve\u001b[1;34m(self, **kwargs)\u001b[0m\n\u001b[0;32m   4824\u001b[0m                 \u001b[1;31m# take arg clean flag or this model's\u001b[0m\u001b[1;33m\u001b[0m\u001b[1;33m\u001b[0m\u001b[0m\n\u001b[0;32m   4825\u001b[0m                 \u001b[0mused_clean_before_solve\u001b[0m \u001b[1;33m=\u001b[0m \u001b[0mkwargs\u001b[0m\u001b[1;33m.\u001b[0m\u001b[0mget\u001b[0m\u001b[1;33m(\u001b[0m\u001b[1;34m'clean_before_solve'\u001b[0m\u001b[1;33m,\u001b[0m \u001b[0mself\u001b[0m\u001b[1;33m.\u001b[0m\u001b[0mclean_before_solve\u001b[0m\u001b[1;33m)\u001b[0m\u001b[1;33m\u001b[0m\u001b[1;33m\u001b[0m\u001b[0m\n\u001b[1;32m-> 4826\u001b[1;33m                 \u001b[1;32mreturn\u001b[0m \u001b[0mself\u001b[0m\u001b[1;33m.\u001b[0m\u001b[0m_solve_local\u001b[0m\u001b[1;33m(\u001b[0m\u001b[0mcontext\u001b[0m\u001b[1;33m,\u001b[0m \u001b[0mused_clean_before_solve\u001b[0m\u001b[1;33m,\u001b[0m \u001b[0mparameter_sets\u001b[0m\u001b[1;33m)\u001b[0m\u001b[1;31m# lex_timelimits, lex_mipgaps)\u001b[0m\u001b[1;33m\u001b[0m\u001b[1;33m\u001b[0m\u001b[0m\n\u001b[0m\u001b[0;32m   4827\u001b[0m             \u001b[1;32melse\u001b[0m\u001b[1;33m:\u001b[0m\u001b[1;33m\u001b[0m\u001b[1;33m\u001b[0m\u001b[0m\n\u001b[0;32m   4828\u001b[0m                 \u001b[1;32mreturn\u001b[0m \u001b[0mself\u001b[0m\u001b[1;33m.\u001b[0m\u001b[0mfatal\u001b[0m\u001b[1;33m(\u001b[0m\u001b[1;34m\"Cannot solve model: no CPLEX runtime found.\"\u001b[0m\u001b[1;33m)\u001b[0m\u001b[1;33m\u001b[0m\u001b[1;33m\u001b[0m\u001b[0m\n",
      "\u001b[1;32m~\\AppData\\Roaming\\Python\\Python39\\site-packages\\docplex\\mp\\model.py\u001b[0m in \u001b[0;36m_solve_local\u001b[1;34m(self, context, clean_before_solve, parameter_sets)\u001b[0m\n\u001b[0;32m   4872\u001b[0m         \u001b[1;32mexcept\u001b[0m \u001b[0mDOcplexException\u001b[0m \u001b[1;32mas\u001b[0m \u001b[0mdocpx_e\u001b[0m\u001b[1;33m:\u001b[0m  \u001b[1;31m# pragma: no cover\u001b[0m\u001b[1;33m\u001b[0m\u001b[1;33m\u001b[0m\u001b[0m\n\u001b[0;32m   4873\u001b[0m             \u001b[0mnew_solution\u001b[0m \u001b[1;33m=\u001b[0m \u001b[1;32mNone\u001b[0m\u001b[1;33m\u001b[0m\u001b[1;33m\u001b[0m\u001b[0m\n\u001b[1;32m-> 4874\u001b[1;33m             \u001b[1;32mraise\u001b[0m \u001b[0mdocpx_e\u001b[0m\u001b[1;33m\u001b[0m\u001b[1;33m\u001b[0m\u001b[0m\n\u001b[0m\u001b[0;32m   4875\u001b[0m \u001b[1;33m\u001b[0m\u001b[0m\n\u001b[0;32m   4876\u001b[0m         \u001b[1;32mexcept\u001b[0m \u001b[0mException\u001b[0m \u001b[1;32mas\u001b[0m \u001b[0me\u001b[0m\u001b[1;33m:\u001b[0m\u001b[1;33m\u001b[0m\u001b[1;33m\u001b[0m\u001b[0m\n",
      "\u001b[1;32m~\\AppData\\Roaming\\Python\\Python39\\site-packages\\docplex\\mp\\model.py\u001b[0m in \u001b[0;36m_solve_local\u001b[1;34m(self, context, clean_before_solve, parameter_sets)\u001b[0m\n\u001b[0;32m   4861\u001b[0m             \u001b[0mself\u001b[0m\u001b[1;33m.\u001b[0m\u001b[0m_apply_parameters_to_engine\u001b[0m\u001b[1;33m(\u001b[0m\u001b[0mused_parameters\u001b[0m\u001b[1;33m)\u001b[0m\u001b[1;33m\u001b[0m\u001b[1;33m\u001b[0m\u001b[0m\n\u001b[0;32m   4862\u001b[0m \u001b[1;33m\u001b[0m\u001b[0m\n\u001b[1;32m-> 4863\u001b[1;33m             new_solution = self_engine.solve(self,\n\u001b[0m\u001b[0;32m   4864\u001b[0m                                              \u001b[0mparameters\u001b[0m\u001b[1;33m=\u001b[0m\u001b[0mused_parameters\u001b[0m\u001b[1;33m,\u001b[0m\u001b[1;33m\u001b[0m\u001b[1;33m\u001b[0m\u001b[0m\n\u001b[0;32m   4865\u001b[0m                                              \u001b[0mclean_before_solve\u001b[0m\u001b[1;33m=\u001b[0m\u001b[0mclean_before_solve\u001b[0m\u001b[1;33m,\u001b[0m\u001b[1;33m\u001b[0m\u001b[1;33m\u001b[0m\u001b[0m\n",
      "\u001b[1;32m~\\AppData\\Roaming\\Python\\Python39\\site-packages\\docplex\\mp\\cplex_engine.py\u001b[0m in \u001b[0;36msolve\u001b[1;34m(self, mdl, parameters, **kwargs)\u001b[0m\n\u001b[0;32m   2013\u001b[0m                 \u001b[0mcpx_status\u001b[0m \u001b[1;33m=\u001b[0m \u001b[1;36m1016\u001b[0m\u001b[1;33m\u001b[0m\u001b[1;33m\u001b[0m\u001b[0m\n\u001b[0;32m   2014\u001b[0m                 \u001b[0mcpx_status_string\u001b[0m \u001b[1;33m=\u001b[0m \u001b[1;34m\"Promotional version. Problem size limits exceeded., CPLEX code=1016.\"\u001b[0m\u001b[1;33m\u001b[0m\u001b[1;33m\u001b[0m\u001b[0m\n\u001b[1;32m-> 2015\u001b[1;33m                 \u001b[0mself\u001b[0m\u001b[1;33m.\u001b[0m\u001b[0m_model\u001b[0m\u001b[1;33m.\u001b[0m\u001b[0mfatal_ce_limits\u001b[0m\u001b[1;33m(\u001b[0m\u001b[1;33m)\u001b[0m\u001b[1;33m\u001b[0m\u001b[1;33m\u001b[0m\u001b[0m\n\u001b[0m\u001b[0;32m   2016\u001b[0m \u001b[1;33m\u001b[0m\u001b[0m\n\u001b[0;32m   2017\u001b[0m             \u001b[1;32melif\u001b[0m \u001b[0mself\u001b[0m\u001b[1;33m.\u001b[0m\u001b[0mfix_multiobj_error_1300\u001b[0m \u001b[1;32mand\u001b[0m \u001b[1;36m1300\u001b[0m \u001b[1;33m==\u001b[0m \u001b[0mcpx_code\u001b[0m\u001b[1;33m:\u001b[0m\u001b[1;33m\u001b[0m\u001b[1;33m\u001b[0m\u001b[0m\n",
      "\u001b[1;32m~\\AppData\\Roaming\\Python\\Python39\\site-packages\\docplex\\mp\\model.py\u001b[0m in \u001b[0;36mfatal_ce_limits\u001b[1;34m(self, *args)\u001b[0m\n\u001b[0;32m   1082\u001b[0m         \u001b[0mnb_constraints\u001b[0m \u001b[1;33m=\u001b[0m \u001b[0mself\u001b[0m\u001b[1;33m.\u001b[0m\u001b[0mnumber_of_constraints\u001b[0m\u001b[1;33m\u001b[0m\u001b[1;33m\u001b[0m\u001b[0m\n\u001b[0;32m   1083\u001b[0m \u001b[1;33m\u001b[0m\u001b[0m\n\u001b[1;32m-> 1084\u001b[1;33m         \u001b[0mself\u001b[0m\u001b[1;33m.\u001b[0m\u001b[0m_error_handler\u001b[0m\u001b[1;33m.\u001b[0m\u001b[0mfatal_limits_exceeded\u001b[0m\u001b[1;33m(\u001b[0m\u001b[0mnb_vars\u001b[0m\u001b[1;33m,\u001b[0m \u001b[0mnb_constraints\u001b[0m\u001b[1;33m)\u001b[0m\u001b[1;33m\u001b[0m\u001b[1;33m\u001b[0m\u001b[0m\n\u001b[0m\u001b[0;32m   1085\u001b[0m \u001b[1;33m\u001b[0m\u001b[0m\n\u001b[0;32m   1086\u001b[0m     \u001b[1;32mdef\u001b[0m \u001b[0merror\u001b[0m\u001b[1;33m(\u001b[0m\u001b[0mself\u001b[0m\u001b[1;33m,\u001b[0m \u001b[0mmsg\u001b[0m\u001b[1;33m,\u001b[0m \u001b[1;33m*\u001b[0m\u001b[0margs\u001b[0m\u001b[1;33m)\u001b[0m\u001b[1;33m:\u001b[0m\u001b[1;33m\u001b[0m\u001b[1;33m\u001b[0m\u001b[0m\n",
      "\u001b[1;32m~\\AppData\\Roaming\\Python\\Python39\\site-packages\\docplex\\mp\\error_handler.py\u001b[0m in \u001b[0;36mfatal_limits_exceeded\u001b[1;34m(self, nb_vars, nb_constraints)\u001b[0m\n\u001b[0;32m    212\u001b[0m     \u001b[1;32mdef\u001b[0m \u001b[0mfatal_limits_exceeded\u001b[0m\u001b[1;33m(\u001b[0m\u001b[0mself\u001b[0m\u001b[1;33m,\u001b[0m \u001b[0mnb_vars\u001b[0m\u001b[1;33m,\u001b[0m \u001b[0mnb_constraints\u001b[0m\u001b[1;33m)\u001b[0m\u001b[1;33m:\u001b[0m\u001b[1;33m\u001b[0m\u001b[1;33m\u001b[0m\u001b[0m\n\u001b[0;32m    213\u001b[0m         \u001b[0mdocplex_error_stop_here\u001b[0m\u001b[1;33m(\u001b[0m\u001b[1;33m)\u001b[0m\u001b[1;33m\u001b[0m\u001b[1;33m\u001b[0m\u001b[0m\n\u001b[1;32m--> 214\u001b[1;33m         \u001b[1;32mraise\u001b[0m \u001b[0mDOcplexLimitsExceeded\u001b[0m\u001b[1;33m(\u001b[0m\u001b[0mnb_vars\u001b[0m\u001b[1;33m,\u001b[0m \u001b[0mnb_constraints\u001b[0m\u001b[1;33m)\u001b[0m\u001b[1;33m\u001b[0m\u001b[1;33m\u001b[0m\u001b[0m\n\u001b[0m\u001b[0;32m    215\u001b[0m \u001b[1;33m\u001b[0m\u001b[0m\n\u001b[0;32m    216\u001b[0m \u001b[1;33m\u001b[0m\u001b[0m\n",
      "\u001b[1;31mDOcplexLimitsExceeded\u001b[0m: **** Promotional version. Problem size limits (1000 vars, 1000 consts) exceeded, model has 150185 vars, 858 consts, CPLEX code=1016"
     ]
    }
   ],
   "source": [
    "# solve the model\n",
    "mdl.solve()"
   ]
  },
  {
   "cell_type": "code",
   "execution_count": 16,
   "id": "a0f993e1",
   "metadata": {},
   "outputs": [
    {
     "ename": "SyntaxError",
     "evalue": "unexpected EOF while parsing (3210131814.py, line 2)",
     "output_type": "error",
     "traceback": [
      "\u001b[1;36m  File \u001b[1;32m\"C:\\Users\\lavinia\\AppData\\Local\\Temp\\ipykernel_6584\\3210131814.py\"\u001b[1;36m, line \u001b[1;32m2\u001b[0m\n\u001b[1;33m    print(\"Total covered demand = %g\" % mdl.objective_value\u001b[0m\n\u001b[1;37m                                                           ^\u001b[0m\n\u001b[1;31mSyntaxError\u001b[0m\u001b[1;31m:\u001b[0m unexpected EOF while parsing\n"
     ]
    }
   ],
   "source": [
    "# print the solution\n",
    "print(\"Total covered demand = %g\" % mdl.objective_value"
   ]
  },
  {
   "cell_type": "code",
   "execution_count": null,
   "id": "ad20f9b6",
   "metadata": {},
   "outputs": [],
   "source": []
  },
  {
   "cell_type": "code",
   "execution_count": null,
   "id": "c4443973",
   "metadata": {},
   "outputs": [],
   "source": []
  },
  {
   "cell_type": "code",
   "execution_count": null,
   "id": "dd85a8a1",
   "metadata": {},
   "outputs": [],
   "source": []
  },
  {
   "cell_type": "code",
   "execution_count": null,
   "id": "ac6b7099",
   "metadata": {},
   "outputs": [],
   "source": []
  },
  {
   "cell_type": "code",
   "execution_count": null,
   "id": "f75d4471",
   "metadata": {},
   "outputs": [],
   "source": []
  }
 ],
 "metadata": {
  "kernelspec": {
   "display_name": "Python 3 (ipykernel)",
   "language": "python",
   "name": "python3"
  },
  "language_info": {
   "codemirror_mode": {
    "name": "ipython",
    "version": 3
   },
   "file_extension": ".py",
   "mimetype": "text/x-python",
   "name": "python",
   "nbconvert_exporter": "python",
   "pygments_lexer": "ipython3",
   "version": "3.9.13"
  }
 },
 "nbformat": 4,
 "nbformat_minor": 5
}
